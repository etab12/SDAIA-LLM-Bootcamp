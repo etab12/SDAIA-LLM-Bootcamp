{
  "cells": [
    {
      "cell_type": "markdown",
      "metadata": {
        "id": "sxquFBDorNn2"
      },
      "source": [
        "# Handwritten Digit Classification\n",
        "\n",
        "\n",
        "For this Hands-on, we will use the popular scikit-learn library to build a basic classifier. The MNIST dataset contains images of handwritten digits, and the task is to classify each image into its corresponding digit (0 to 9)."
      ]
    },
    {
      "cell_type": "markdown",
      "metadata": {
        "id": "LFjb1WbUtzcT"
      },
      "source": [
        "## Import Libraries"
      ]
    },
    {
      "cell_type": "code",
      "execution_count": 1,
      "metadata": {
        "id": "vZuJJeZBt1NX"
      },
      "outputs": [],
      "source": [
        "# Import required libraries\n",
        "import numpy as np\n",
        "import matplotlib.pyplot as plt\n",
        "from keras.datasets import mnist\n",
        "from keras.models import Sequential\n",
        "from keras.layers import Conv2D, MaxPooling2D, Flatten, Dense\n",
        "from keras.utils import to_categorical\n",
        "from sklearn.model_selection import train_test_split"
      ]
    },
    {
      "cell_type": "markdown",
      "metadata": {
        "id": "izR8JS-irUfe"
      },
      "source": [
        "## Load the Dataset"
      ]
    },
    {
      "cell_type": "markdown",
      "source": [
        "**Question 1:** Load the train and test subsets of the mnist dataset from Keras"
      ],
      "metadata": {
        "id": "ksDVyrnEaqY9"
      }
    },
    {
      "cell_type": "code",
      "execution_count": 2,
      "metadata": {
        "id": "tPZGpMact7Hh",
        "colab": {
          "base_uri": "https://localhost:8080/"
        },
        "outputId": "5466b314-82c1-4be6-8261-d97338aa75c9"
      },
      "outputs": [
        {
          "output_type": "stream",
          "name": "stdout",
          "text": [
            "Downloading data from https://storage.googleapis.com/tensorflow/tf-keras-datasets/mnist.npz\n",
            "11490434/11490434 [==============================] - 0s 0us/step\n"
          ]
        }
      ],
      "source": [
        "import tensorflow as tf\n",
        "\n",
        "# Load the MNIST dataset\n",
        "(X_train, y_train), (X_test, y_test) =tf.keras.datasets.mnist.load_data()\n",
        "\n"
      ]
    },
    {
      "cell_type": "markdown",
      "metadata": {
        "id": "1hRAaUS5uBa5"
      },
      "source": [
        "## Data Pre-Processing"
      ]
    },
    {
      "cell_type": "markdown",
      "source": [
        "**Question 2:**  \n",
        "\n",
        "*   Adjust the input shape to match the one the model is expecting\n",
        "*   Normalize the values of the pixels\n",
        "*   Turn labels into categories using the to_categorical function"
      ],
      "metadata": {
        "id": "pk-ekR4Wa1AD"
      }
    },
    {
      "cell_type": "code",
      "execution_count": 3,
      "metadata": {
        "id": "6PlFzdt2uAOc"
      },
      "outputs": [],
      "source": [
        "# Preprocess the data\n",
        "#reshape\n",
        "x_train = X_train.reshape(X_train.shape[0], 28, 28, 1)\n",
        "x_test = X_test.reshape(X_test.shape[0], 28, 28, 1)\n",
        "\n",
        "#normalize\n",
        "x_train = x_train.astype('float32')\n",
        "x_test = x_test.astype('float32')\n",
        "x_train /= 255 # devide on the max value\n",
        "x_test /= 255\n",
        "#convert label to categorical\n",
        "y_train=to_categorical(y_train)\n",
        "y_test=to_categorical(y_test)\n",
        "\n",
        "\n"
      ]
    },
    {
      "cell_type": "code",
      "source": [
        "x_train.shape , x_test.shape\n"
      ],
      "metadata": {
        "colab": {
          "base_uri": "https://localhost:8080/"
        },
        "id": "X-df_DKzcJs-",
        "outputId": "a9714448-4389-496d-d450-d909403e1ceb"
      },
      "execution_count": 4,
      "outputs": [
        {
          "output_type": "execute_result",
          "data": {
            "text/plain": [
              "((60000, 28, 28, 1), (10000, 28, 28, 1))"
            ]
          },
          "metadata": {},
          "execution_count": 4
        }
      ]
    },
    {
      "cell_type": "code",
      "source": [
        "y_train.shape , y_test.shape"
      ],
      "metadata": {
        "colab": {
          "base_uri": "https://localhost:8080/"
        },
        "id": "AARvPAHXcRM-",
        "outputId": "514afeb8-c5ec-4f26-ecee-fab43e936b5c"
      },
      "execution_count": 5,
      "outputs": [
        {
          "output_type": "execute_result",
          "data": {
            "text/plain": [
              "((60000, 10), (10000, 10))"
            ]
          },
          "metadata": {},
          "execution_count": 5
        }
      ]
    },
    {
      "cell_type": "code",
      "source": [
        "plt.imshow(X_train[2]) # show sample image"
      ],
      "metadata": {
        "colab": {
          "base_uri": "https://localhost:8080/",
          "height": 447
        },
        "id": "swfzgIzHcVnu",
        "outputId": "ef0c0007-78dd-43ba-c48a-d21908d004c7"
      },
      "execution_count": 6,
      "outputs": [
        {
          "output_type": "execute_result",
          "data": {
            "text/plain": [
              "<matplotlib.image.AxesImage at 0x7dcc0e860040>"
            ]
          },
          "metadata": {},
          "execution_count": 6
        },
        {
          "output_type": "display_data",
          "data": {
            "text/plain": [
              "<Figure size 640x480 with 1 Axes>"
            ],
            "image/png": "[encoded data removed]"
          },
          "metadata": {}
        }
      ]
    },
    {
      "cell_type": "code",
      "source": [
        "y_train[2] # show the corresponding label"
      ],
      "metadata": {
        "colab": {
          "base_uri": "https://localhost:8080/"
        },
        "id": "Tk8wiClHc0fE",
        "outputId": "be834285-3c22-4523-8fc1-b2ae0a6f4bfe"
      },
      "execution_count": 7,
      "outputs": [
        {
          "output_type": "execute_result",
          "data": {
            "text/plain": [
              "array([0., 0., 0., 0., 1., 0., 0., 0., 0., 0.], dtype=float32)"
            ]
          },
          "metadata": {},
          "execution_count": 7
        }
      ]
    },
    {
      "cell_type": "markdown",
      "metadata": {
        "id": "C2P2NYGAu3uf"
      },
      "source": [
        "## Build and train a CNN"
      ]
    },
    {
      "cell_type": "markdown",
      "source": [
        "**Question 3:** Create a Convolutional neural Network of your choice and be careful while you select the following:\n",
        "\n",
        "\n",
        "*   input shape\n",
        "*   activation function at the output layer\n",
        "*   number of output neurons\n",
        "\n"
      ],
      "metadata": {
        "id": "gBh_E3p8yQJd"
      }
    },
    {
      "cell_type": "code",
      "execution_count": 8,
      "metadata": {
        "id": "cSKyObX3u6b5",
        "colab": {
          "base_uri": "https://localhost:8080/"
        },
        "outputId": "6cd1c8bc-6e2a-4b3b-ecae-552a12243c7b"
      },
      "outputs": [
        {
          "output_type": "stream",
          "name": "stdout",
          "text": [
            "Model: \"sequential\"\n",
            "_________________________________________________________________\n",
            " Layer (type)                Output Shape              Param #   \n",
            "=================================================================\n",
            " conv2d (Conv2D)             (None, 26, 26, 64)        640       \n",
            "                                                                 \n",
            " max_pooling2d (MaxPooling2D  (None, 13, 13, 64)       0         \n",
            " )                                                               \n",
            "                                                                 \n",
            " conv2d_1 (Conv2D)           (None, 9, 9, 32)          51232     \n",
            "                                                                 \n",
            " max_pooling2d_1 (MaxPooling  (None, 4, 4, 32)         0         \n",
            " 2D)                                                             \n",
            "                                                                 \n",
            " flatten (Flatten)           (None, 512)               0         \n",
            "                                                                 \n",
            " dense (Dense)               (None, 10)                5130      \n",
            "                                                                 \n",
            "=================================================================\n",
            "Total params: 57,002\n",
            "Trainable params: 57,002\n",
            "Non-trainable params: 0\n",
            "_________________________________________________________________\n"
          ]
        }
      ],
      "source": [
        "\n",
        "import matplotlib.pyplot as plt\n",
        "\n",
        "from keras.models import Sequential\n",
        "from keras.layers import Conv2D, MaxPooling2D, Flatten, Dense\n",
        "\n",
        "\n",
        "\n",
        "# Build the CNN model\n",
        "model = Sequential()\n",
        "model.add(Conv2D(64, (3, 3), activation='relu', input_shape=(28, 28, 1)))\n",
        "model.add(MaxPooling2D((2, 2)))\n",
        "model.add(Conv2D(32, (5, 5), activation='relu'))\n",
        "model.add(MaxPooling2D((2, 2)))\n",
        "model.add(Flatten())\n",
        "model.add(Dense(10, activation='softmax'))\n",
        "\n",
        "\n",
        "model.summary()\n",
        "\n"
      ]
    },
    {
      "cell_type": "markdown",
      "source": [
        "**Question 4:** Compile and train the model. Choose an appropriate loss function, optimizer, and print out the accuracy of the model."
      ],
      "metadata": {
        "id": "Z37o5R4zyrRB"
      }
    },
    {
      "cell_type": "code",
      "source": [
        "# Compile the model\n",
        "model.compile(loss='categorical_crossentropy', optimizer='Adam', metrics=['accuracy'])\n",
        "\n",
        "# Train the model\n",
        "history = model.fit(X_train, y_train, epochs=15, validation_data=(X_test, y_test))\n"
      ],
      "metadata": {
        "id": "EsBT-jSlyo35",
        "colab": {
          "base_uri": "https://localhost:8080/"
        },
        "outputId": "1f44635a-0ce0-45b5-ea91-f12eb48bedd1"
      },
      "execution_count": 9,
      "outputs": [
        {
          "output_type": "stream",
          "name": "stdout",
          "text": [
            "Epoch 1/15\n",
            "1875/1875 [==============================] - 19s 10ms/step - loss: 0.4300 - accuracy: 0.9138 - val_loss: 0.0769 - val_accuracy: 0.9762\n",
            "Epoch 2/15\n",
            "1875/1875 [==============================] - 18s 10ms/step - loss: 0.0827 - accuracy: 0.9750 - val_loss: 0.0761 - val_accuracy: 0.9758\n",
            "Epoch 3/15\n",
            "1875/1875 [==============================] - 17s 9ms/step - loss: 0.0693 - accuracy: 0.9788 - val_loss: 0.0750 - val_accuracy: 0.9790\n",
            "Epoch 4/15\n",
            "1875/1875 [==============================] - 17s 9ms/step - loss: 0.0582 - accuracy: 0.9822 - val_loss: 0.0688 - val_accuracy: 0.9805\n",
            "Epoch 5/15\n",
            "1875/1875 [==============================] - 17s 9ms/step - loss: 0.0490 - accuracy: 0.9855 - val_loss: 0.0586 - val_accuracy: 0.9830\n",
            "Epoch 6/15\n",
            "1875/1875 [==============================] - 17s 9ms/step - loss: 0.0423 - accuracy: 0.9870 - val_loss: 0.0692 - val_accuracy: 0.9834\n",
            "Epoch 7/15\n",
            "1875/1875 [==============================] - 17s 9ms/step - loss: 0.0409 - accuracy: 0.9879 - val_loss: 0.0704 - val_accuracy: 0.9830\n",
            "Epoch 8/15\n",
            "1875/1875 [==============================] - 17s 9ms/step - loss: 0.0356 - accuracy: 0.9897 - val_loss: 0.0734 - val_accuracy: 0.9824\n",
            "Epoch 9/15\n",
            "1875/1875 [==============================] - 17s 9ms/step - loss: 0.0324 - accuracy: 0.9906 - val_loss: 0.0899 - val_accuracy: 0.9821\n",
            "Epoch 10/15\n",
            "1875/1875 [==============================] - 17s 9ms/step - loss: 0.0344 - accuracy: 0.9905 - val_loss: 0.0642 - val_accuracy: 0.9834\n",
            "Epoch 11/15\n",
            "1875/1875 [==============================] - 17s 9ms/step - loss: 0.0280 - accuracy: 0.9918 - val_loss: 0.0895 - val_accuracy: 0.9805\n",
            "Epoch 12/15\n",
            "1875/1875 [==============================] - 18s 9ms/step - loss: 0.0309 - accuracy: 0.9919 - val_loss: 0.0790 - val_accuracy: 0.9845\n",
            "Epoch 13/15\n",
            "1875/1875 [==============================] - 17s 9ms/step - loss: 0.0256 - accuracy: 0.9930 - val_loss: 0.1077 - val_accuracy: 0.9823\n",
            "Epoch 14/15\n",
            "1875/1875 [==============================] - 17s 9ms/step - loss: 0.0279 - accuracy: 0.9926 - val_loss: 0.0774 - val_accuracy: 0.9853\n",
            "Epoch 15/15\n",
            "1875/1875 [==============================] - 17s 9ms/step - loss: 0.0276 - accuracy: 0.9935 - val_loss: 0.0961 - val_accuracy: 0.9823\n"
          ]
        }
      ]
    },
    {
      "cell_type": "markdown",
      "metadata": {
        "id": "LaYsKjVSu9KF"
      },
      "source": [
        "## Evaluate the Model's performance"
      ]
    },
    {
      "cell_type": "markdown",
      "source": [
        "**Question 5:** Plot the training and validation accuracy to better understand the performance of the model."
      ],
      "metadata": {
        "id": "57_7ykVky_j_"
      }
    },
    {
      "cell_type": "code",
      "execution_count": 10,
      "metadata": {
        "id": "-KqzKudQu8rv",
        "colab": {
          "base_uri": "https://localhost:8080/",
          "height": 962
        },
        "outputId": "6f3a515f-03ab-4d25-90dc-f2dde760986b"
      },
      "outputs": [
        {
          "output_type": "stream",
          "name": "stdout",
          "text": [
            "313/313 [==============================] - 1s 3ms/step - loss: 0.0961 - accuracy: 0.9823\n",
            "Test Accuracy: 0.9822999835014343\n"
          ]
        },
        {
          "output_type": "display_data",
          "data": {
            "text/plain": [
              "<Figure size 640x480 with 1 Axes>"
            ],
            "image/png": "[encoded data removed]"
          },
          "metadata": {}
        },
        {
          "output_type": "display_data",
          "data": {
            "text/plain": [
              "<Figure size 640x480 with 1 Axes>"
            ],
            "image/png": "[encoded data removed]"
          },
          "metadata": {}
        }
      ],
      "source": [
        "\n",
        "# Evaluate the model on the test set\n",
        "test_loss, test_accuracy = model.evaluate(X_test, y_test)\n",
        "print(\"Test Accuracy:\", test_accuracy)\n",
        "\n",
        "# Plot the training and validation accuracy over epochs\n",
        "\n",
        "plt.plot(history.history['accuracy'])\n",
        "plt.plot(history.history['val_accuracy'])\n",
        "plt.title('model accuracy')\n",
        "plt.ylabel('accuracy')\n",
        "plt.xlabel('epoch')\n",
        "plt.legend(['Train', 'Validation'], loc='upper left')\n",
        "plt.show()\n",
        "\n",
        "\n",
        "#plot the loss\n",
        "plt.plot(history.history['loss'])\n",
        "plt.plot(history.history['val_loss'])\n",
        "plt.title('model loss')\n",
        "plt.ylabel('loss')\n",
        "plt.xlabel('epoch')\n",
        "plt.legend(['Train', 'Validation'], loc='upper left')\n",
        "plt.show()\n"
      ]
    }
  ],
  "metadata": {
    "colab": {
      "provenance": [],
      "toc_visible": true,
      "machine_shape": "hm"
    },
    "kernelspec": {
      "display_name": "Python 3",
      "name": "python3"
    },
    "language_info": {
      "name": "python"
    },
    "accelerator": "TPU"
  },
  "nbformat": 4,
  "nbformat_minor": 0
}